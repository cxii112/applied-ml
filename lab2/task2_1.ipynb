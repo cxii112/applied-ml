{
 "cells": [
  {
   "cell_type": "code",
   "execution_count": 2,
   "metadata": {},
   "outputs": [],
   "source": [
    "import numpy as np\n",
    "import pandas as pd\n",
    "import seaborn as sns\n",
    "sns.set_theme(style='darkgrid', palette=sns.color_palette('bright6'))\n",
    "import matplotlib.pyplot as plt\n",
    "%matplotlib inline\n",
    "from sklearn.model_selection import train_test_split\n",
    "from sklearn.model_selection import cross_val_score\n",
    "from sklearn.model_selection import StratifiedKFold\n",
    "from sklearn.metrics import classification_report\n",
    "from sklearn.metrics import accuracy_score\n",
    "from sklearn.linear_model import LogisticRegression\n",
    "from sklearn.tree import DecisionTreeClassifier\n",
    "from sklearn.neighbors import KNeighborsClassifier\n",
    "from sklearn.discriminant_analysis import LinearDiscriminantAnalysis\n",
    "from sklearn.naive_bayes import GaussianNB\n",
    "from sklearn.svm import SVC"
   ]
  },
  {
   "cell_type": "code",
   "execution_count": 3,
   "metadata": {},
   "outputs": [],
   "source": [
    "ds = pd.read_csv('../assets/pokemon.csv')"
   ]
  },
  {
   "cell_type": "code",
   "execution_count": 4,
   "metadata": {},
   "outputs": [
    {
     "data": {
      "text/plain": [
       "(1007, 24)"
      ]
     },
     "execution_count": 4,
     "metadata": {},
     "output_type": "execute_result"
    }
   ],
   "source": [
    "ds.shape"
   ]
  },
  {
   "cell_type": "code",
   "execution_count": 5,
   "metadata": {},
   "outputs": [
    {
     "name": "stdout",
     "output_type": "stream",
     "text": [
      "<class 'pandas.core.frame.DataFrame'>\n",
      "RangeIndex: 1007 entries, 0 to 1006\n",
      "Data columns (total 24 columns):\n",
      " #   Column                        Non-Null Count  Dtype  \n",
      "---  ------                        --------------  -----  \n",
      " 0   pokemon_id                    1007 non-null   int64  \n",
      " 1   pokemon_name                  1007 non-null   object \n",
      " 2   base_attack                   1007 non-null   int64  \n",
      " 3   base_defense                  1007 non-null   int64  \n",
      " 4   base_stamina                  1007 non-null   int64  \n",
      " 5   type                          1007 non-null   object \n",
      " 6   rarity                        1007 non-null   object \n",
      " 7   charged_moves                 1007 non-null   object \n",
      " 8   fast_moves                    1007 non-null   object \n",
      " 9   candy_required                471 non-null    float64\n",
      " 10  distance                      1007 non-null   int64  \n",
      " 11  max_cp                        1007 non-null   int64  \n",
      " 12  attack_probability            904 non-null    float64\n",
      " 13  base_capture_rate             904 non-null    float64\n",
      " 14  base_flee_rate                904 non-null    float64\n",
      " 15  dodge_probability             904 non-null    float64\n",
      " 16  max_pokemon_action_frequency  904 non-null    float64\n",
      " 17  min_pokemon_action_frequency  904 non-null    float64\n",
      " 18  found_egg                     744 non-null    object \n",
      " 19  found_evolution               744 non-null    object \n",
      " 20  found_wild                    744 non-null    object \n",
      " 21  found_research                744 non-null    object \n",
      " 22  found_raid                    744 non-null    object \n",
      " 23  found_photobomb               744 non-null    object \n",
      "dtypes: float64(7), int64(6), object(11)\n",
      "memory usage: 188.9+ KB\n"
     ]
    }
   ],
   "source": [
    "ds.info()"
   ]
  },
  {
   "cell_type": "code",
   "execution_count": 6,
   "metadata": {},
   "outputs": [
    {
     "data": {
      "text/plain": [
       "array([ nan,  25., 100.,  12.,  50., 400., 200.])"
      ]
     },
     "execution_count": 6,
     "metadata": {},
     "output_type": "execute_result"
    }
   ],
   "source": [
    "ds.candy_required.unique()"
   ]
  },
  {
   "cell_type": "code",
   "execution_count": 7,
   "metadata": {},
   "outputs": [
    {
     "data": {
      "text/plain": [
       "array([True, False, nan], dtype=object)"
      ]
     },
     "execution_count": 7,
     "metadata": {},
     "output_type": "execute_result"
    }
   ],
   "source": [
    "ds.found_egg.unique()"
   ]
  },
  {
   "cell_type": "code",
   "execution_count": 8,
   "metadata": {},
   "outputs": [
    {
     "data": {
      "text/plain": [
       "array([False, True, nan], dtype=object)"
      ]
     },
     "execution_count": 8,
     "metadata": {},
     "output_type": "execute_result"
    }
   ],
   "source": [
    "ds.found_evolution.unique()"
   ]
  },
  {
   "cell_type": "code",
   "execution_count": 9,
   "metadata": {},
   "outputs": [
    {
     "data": {
      "text/plain": [
       "array([True, False, nan], dtype=object)"
      ]
     },
     "execution_count": 9,
     "metadata": {},
     "output_type": "execute_result"
    }
   ],
   "source": [
    "ds.found_wild.unique()"
   ]
  },
  {
   "cell_type": "code",
   "execution_count": 10,
   "metadata": {},
   "outputs": [
    {
     "data": {
      "text/plain": [
       "array([True, False, nan], dtype=object)"
      ]
     },
     "execution_count": 10,
     "metadata": {},
     "output_type": "execute_result"
    }
   ],
   "source": [
    "ds.found_research.unique()"
   ]
  },
  {
   "cell_type": "code",
   "execution_count": 11,
   "metadata": {},
   "outputs": [
    {
     "data": {
      "text/plain": [
       "array([True, False, nan], dtype=object)"
      ]
     },
     "execution_count": 11,
     "metadata": {},
     "output_type": "execute_result"
    }
   ],
   "source": [
    "ds.found_raid.unique()"
   ]
  },
  {
   "cell_type": "code",
   "execution_count": 12,
   "metadata": {},
   "outputs": [
    {
     "data": {
      "text/plain": [
       "array([True, False, nan], dtype=object)"
      ]
     },
     "execution_count": 12,
     "metadata": {},
     "output_type": "execute_result"
    }
   ],
   "source": [
    "ds.found_photobomb.unique()"
   ]
  },
  {
   "cell_type": "code",
   "execution_count": 13,
   "metadata": {},
   "outputs": [],
   "source": [
    "ds.candy_required = ds.candy_required.fillna(0)\n",
    "ds.found_egg = ds.found_egg.fillna(False)\n",
    "ds.found_evolution = ds.found_evolution.fillna(False)\n",
    "ds.found_wild = ds.found_wild.fillna(False)\n",
    "ds.found_research = ds.found_research.fillna(False)\n",
    "ds.found_raid = ds.found_raid.fillna(False)\n",
    "ds.found_photobomb = ds.found_photobomb.fillna(False)"
   ]
  },
  {
   "cell_type": "code",
   "execution_count": 14,
   "metadata": {},
   "outputs": [
    {
     "name": "stdout",
     "output_type": "stream",
     "text": [
      "<class 'pandas.core.frame.DataFrame'>\n",
      "RangeIndex: 1007 entries, 0 to 1006\n",
      "Data columns (total 24 columns):\n",
      " #   Column                        Non-Null Count  Dtype  \n",
      "---  ------                        --------------  -----  \n",
      " 0   pokemon_id                    1007 non-null   int64  \n",
      " 1   pokemon_name                  1007 non-null   object \n",
      " 2   base_attack                   1007 non-null   int64  \n",
      " 3   base_defense                  1007 non-null   int64  \n",
      " 4   base_stamina                  1007 non-null   int64  \n",
      " 5   type                          1007 non-null   object \n",
      " 6   rarity                        1007 non-null   object \n",
      " 7   charged_moves                 1007 non-null   object \n",
      " 8   fast_moves                    1007 non-null   object \n",
      " 9   candy_required                1007 non-null   float64\n",
      " 10  distance                      1007 non-null   int64  \n",
      " 11  max_cp                        1007 non-null   int64  \n",
      " 12  attack_probability            904 non-null    float64\n",
      " 13  base_capture_rate             904 non-null    float64\n",
      " 14  base_flee_rate                904 non-null    float64\n",
      " 15  dodge_probability             904 non-null    float64\n",
      " 16  max_pokemon_action_frequency  904 non-null    float64\n",
      " 17  min_pokemon_action_frequency  904 non-null    float64\n",
      " 18  found_egg                     1007 non-null   bool   \n",
      " 19  found_evolution               1007 non-null   bool   \n",
      " 20  found_wild                    1007 non-null   bool   \n",
      " 21  found_research                1007 non-null   bool   \n",
      " 22  found_raid                    1007 non-null   bool   \n",
      " 23  found_photobomb               1007 non-null   bool   \n",
      "dtypes: bool(6), float64(7), int64(6), object(5)\n",
      "memory usage: 147.6+ KB\n"
     ]
    }
   ],
   "source": [
    "ds.info()"
   ]
  },
  {
   "cell_type": "code",
   "execution_count": 15,
   "metadata": {},
   "outputs": [
    {
     "data": {
      "text/plain": [
       "array([0.1 , 0.2 , 0.4 , 0.3 , 0.05, 0.12, 0.15, 0.  , 0.01, 0.7 , 0.5 ,\n",
       "       0.45, 0.25, 0.6 , 0.35, 0.13,  nan])"
      ]
     },
     "execution_count": 15,
     "metadata": {},
     "output_type": "execute_result"
    }
   ],
   "source": [
    "ds.attack_probability.unique()"
   ]
  },
  {
   "cell_type": "code",
   "execution_count": 16,
   "metadata": {},
   "outputs": [
    {
     "data": {
      "text/plain": [
       "array([-1., nan])"
      ]
     },
     "execution_count": 16,
     "metadata": {},
     "output_type": "execute_result"
    }
   ],
   "source": [
    "ds.base_capture_rate.unique()"
   ]
  },
  {
   "cell_type": "code",
   "execution_count": 17,
   "metadata": {},
   "outputs": [
    {
     "data": {
      "text/plain": [
       "array([-1., nan])"
      ]
     },
     "execution_count": 17,
     "metadata": {},
     "output_type": "execute_result"
    }
   ],
   "source": [
    "ds.base_flee_rate.unique()"
   ]
  },
  {
   "cell_type": "code",
   "execution_count": 18,
   "metadata": {},
   "outputs": [
    {
     "data": {
      "text/plain": [
       "array([0.15, 0.  , 0.2 , 0.3 , 0.1 , 0.05, 1.  , 0.25, 0.4 , 0.02, 0.45,\n",
       "       0.35,  nan])"
      ]
     },
     "execution_count": 18,
     "metadata": {},
     "output_type": "execute_result"
    }
   ],
   "source": [
    "ds.dodge_probability.unique()"
   ]
  },
  {
   "cell_type": "code",
   "execution_count": 19,
   "metadata": {},
   "outputs": [
    {
     "data": {
      "text/plain": [
       "array([1.6, 2.5, nan])"
      ]
     },
     "execution_count": 19,
     "metadata": {},
     "output_type": "execute_result"
    }
   ],
   "source": [
    "ds.max_pokemon_action_frequency.unique()"
   ]
  },
  {
   "cell_type": "code",
   "execution_count": 20,
   "metadata": {},
   "outputs": [
    {
     "data": {
      "text/plain": [
       "array([0.2 , 0.9 , 1.1 , 0.75,  nan])"
      ]
     },
     "execution_count": 20,
     "metadata": {},
     "output_type": "execute_result"
    }
   ],
   "source": [
    "ds.min_pokemon_action_frequency.unique()"
   ]
  },
  {
   "cell_type": "code",
   "execution_count": 21,
   "metadata": {},
   "outputs": [],
   "source": [
    "ds.attack_probability = ds.attack_probability.fillna(0)\n"
   ]
  },
  {
   "cell_type": "code",
   "execution_count": null,
   "metadata": {},
   "outputs": [],
   "source": [
    "ds.base_capture_rate = ds.base_capture_rate.fillna(False)\n",
    "ds.found_evolution = ds.found_evolution.fillna(False)\n",
    "ds.found_wild = ds.found_wild.fillna(False)\n",
    "ds.found_research = ds.found_research.fillna(False)\n",
    "ds.found_raid = ds.found_raid.fillna(False)\n",
    "ds.found_photobomb = ds.found_photobomb.fillna(False)"
   ]
  },
  {
   "cell_type": "code",
   "execution_count": 22,
   "metadata": {},
   "outputs": [
    {
     "name": "stdout",
     "output_type": "stream",
     "text": [
      "<class 'pandas.core.frame.DataFrame'>\n",
      "RangeIndex: 1007 entries, 0 to 1006\n",
      "Data columns (total 24 columns):\n",
      " #   Column                        Non-Null Count  Dtype  \n",
      "---  ------                        --------------  -----  \n",
      " 0   pokemon_id                    1007 non-null   int64  \n",
      " 1   pokemon_name                  1007 non-null   object \n",
      " 2   base_attack                   1007 non-null   int64  \n",
      " 3   base_defense                  1007 non-null   int64  \n",
      " 4   base_stamina                  1007 non-null   int64  \n",
      " 5   type                          1007 non-null   object \n",
      " 6   rarity                        1007 non-null   object \n",
      " 7   charged_moves                 1007 non-null   object \n",
      " 8   fast_moves                    1007 non-null   object \n",
      " 9   candy_required                1007 non-null   float64\n",
      " 10  distance                      1007 non-null   int64  \n",
      " 11  max_cp                        1007 non-null   int64  \n",
      " 12  attack_probability            1007 non-null   float64\n",
      " 13  base_capture_rate             904 non-null    float64\n",
      " 14  base_flee_rate                904 non-null    float64\n",
      " 15  dodge_probability             904 non-null    float64\n",
      " 16  max_pokemon_action_frequency  904 non-null    float64\n",
      " 17  min_pokemon_action_frequency  904 non-null    float64\n",
      " 18  found_egg                     1007 non-null   bool   \n",
      " 19  found_evolution               1007 non-null   bool   \n",
      " 20  found_wild                    1007 non-null   bool   \n",
      " 21  found_research                1007 non-null   bool   \n",
      " 22  found_raid                    1007 non-null   bool   \n",
      " 23  found_photobomb               1007 non-null   bool   \n",
      "dtypes: bool(6), float64(7), int64(6), object(5)\n",
      "memory usage: 147.6+ KB\n"
     ]
    }
   ],
   "source": [
    "ds.info()"
   ]
  },
  {
   "cell_type": "code",
   "execution_count": 5,
   "metadata": {},
   "outputs": [
    {
     "data": {
      "text/html": [
       "<div>\n",
       "<style scoped>\n",
       "    .dataframe tbody tr th:only-of-type {\n",
       "        vertical-align: middle;\n",
       "    }\n",
       "\n",
       "    .dataframe tbody tr th {\n",
       "        vertical-align: top;\n",
       "    }\n",
       "\n",
       "    .dataframe thead th {\n",
       "        text-align: right;\n",
       "    }\n",
       "</style>\n",
       "<table border=\"1\" class=\"dataframe\">\n",
       "  <thead>\n",
       "    <tr style=\"text-align: right;\">\n",
       "      <th></th>\n",
       "      <th>pokemon_id</th>\n",
       "      <th>base_attack</th>\n",
       "      <th>base_defense</th>\n",
       "      <th>base_stamina</th>\n",
       "      <th>candy_required</th>\n",
       "      <th>distance</th>\n",
       "      <th>max_cp</th>\n",
       "      <th>attack_probability</th>\n",
       "      <th>base_capture_rate</th>\n",
       "      <th>base_flee_rate</th>\n",
       "      <th>dodge_probability</th>\n",
       "      <th>max_pokemon_action_frequency</th>\n",
       "      <th>min_pokemon_action_frequency</th>\n",
       "    </tr>\n",
       "  </thead>\n",
       "  <tbody>\n",
       "    <tr>\n",
       "      <th>count</th>\n",
       "      <td>1007.000000</td>\n",
       "      <td>1007.000000</td>\n",
       "      <td>1007.000000</td>\n",
       "      <td>1007.000000</td>\n",
       "      <td>471.000000</td>\n",
       "      <td>1007.000000</td>\n",
       "      <td>1007.000000</td>\n",
       "      <td>904.000000</td>\n",
       "      <td>904.0</td>\n",
       "      <td>904.0</td>\n",
       "      <td>904.000000</td>\n",
       "      <td>904.000000</td>\n",
       "      <td>904.000000</td>\n",
       "    </tr>\n",
       "    <tr>\n",
       "      <th>mean</th>\n",
       "      <td>504.105263</td>\n",
       "      <td>166.268123</td>\n",
       "      <td>143.824230</td>\n",
       "      <td>171.078451</td>\n",
       "      <td>65.995754</td>\n",
       "      <td>5.058590</td>\n",
       "      <td>2309.782522</td>\n",
       "      <td>0.140951</td>\n",
       "      <td>-1.0</td>\n",
       "      <td>-1.0</td>\n",
       "      <td>0.159093</td>\n",
       "      <td>1.600996</td>\n",
       "      <td>0.204701</td>\n",
       "    </tr>\n",
       "    <tr>\n",
       "      <th>std</th>\n",
       "      <td>291.003489</td>\n",
       "      <td>59.382689</td>\n",
       "      <td>52.023124</td>\n",
       "      <td>47.956251</td>\n",
       "      <td>61.598321</td>\n",
       "      <td>5.458459</td>\n",
       "      <td>1118.813651</td>\n",
       "      <td>0.090397</td>\n",
       "      <td>0.0</td>\n",
       "      <td>0.0</td>\n",
       "      <td>0.062609</td>\n",
       "      <td>0.029934</td>\n",
       "      <td>0.058141</td>\n",
       "    </tr>\n",
       "    <tr>\n",
       "      <th>min</th>\n",
       "      <td>1.000000</td>\n",
       "      <td>0.000000</td>\n",
       "      <td>0.000000</td>\n",
       "      <td>0.000000</td>\n",
       "      <td>12.000000</td>\n",
       "      <td>1.000000</td>\n",
       "      <td>16.000000</td>\n",
       "      <td>0.000000</td>\n",
       "      <td>-1.0</td>\n",
       "      <td>-1.0</td>\n",
       "      <td>0.000000</td>\n",
       "      <td>1.600000</td>\n",
       "      <td>0.200000</td>\n",
       "    </tr>\n",
       "    <tr>\n",
       "      <th>25%</th>\n",
       "      <td>252.500000</td>\n",
       "      <td>119.000000</td>\n",
       "      <td>103.000000</td>\n",
       "      <td>137.000000</td>\n",
       "      <td>25.000000</td>\n",
       "      <td>3.000000</td>\n",
       "      <td>1306.000000</td>\n",
       "      <td>0.100000</td>\n",
       "      <td>-1.0</td>\n",
       "      <td>-1.0</td>\n",
       "      <td>0.150000</td>\n",
       "      <td>1.600000</td>\n",
       "      <td>0.200000</td>\n",
       "    </tr>\n",
       "    <tr>\n",
       "      <th>50%</th>\n",
       "      <td>504.000000</td>\n",
       "      <td>165.000000</td>\n",
       "      <td>142.000000</td>\n",
       "      <td>167.000000</td>\n",
       "      <td>50.000000</td>\n",
       "      <td>3.000000</td>\n",
       "      <td>2304.000000</td>\n",
       "      <td>0.100000</td>\n",
       "      <td>-1.0</td>\n",
       "      <td>-1.0</td>\n",
       "      <td>0.150000</td>\n",
       "      <td>1.600000</td>\n",
       "      <td>0.200000</td>\n",
       "    </tr>\n",
       "    <tr>\n",
       "      <th>75%</th>\n",
       "      <td>755.500000</td>\n",
       "      <td>211.000000</td>\n",
       "      <td>179.000000</td>\n",
       "      <td>193.000000</td>\n",
       "      <td>100.000000</td>\n",
       "      <td>5.000000</td>\n",
       "      <td>3138.000000</td>\n",
       "      <td>0.200000</td>\n",
       "      <td>-1.0</td>\n",
       "      <td>-1.0</td>\n",
       "      <td>0.150000</td>\n",
       "      <td>1.600000</td>\n",
       "      <td>0.200000</td>\n",
       "    </tr>\n",
       "    <tr>\n",
       "      <th>max</th>\n",
       "      <td>1008.000000</td>\n",
       "      <td>414.000000</td>\n",
       "      <td>505.000000</td>\n",
       "      <td>496.000000</td>\n",
       "      <td>400.000000</td>\n",
       "      <td>20.000000</td>\n",
       "      <td>9366.000000</td>\n",
       "      <td>0.700000</td>\n",
       "      <td>-1.0</td>\n",
       "      <td>-1.0</td>\n",
       "      <td>1.000000</td>\n",
       "      <td>2.500000</td>\n",
       "      <td>1.100000</td>\n",
       "    </tr>\n",
       "  </tbody>\n",
       "</table>\n",
       "</div>"
      ],
      "text/plain": [
       "        pokemon_id  base_attack  base_defense  base_stamina  candy_required  \\\n",
       "count  1007.000000  1007.000000   1007.000000   1007.000000      471.000000   \n",
       "mean    504.105263   166.268123    143.824230    171.078451       65.995754   \n",
       "std     291.003489    59.382689     52.023124     47.956251       61.598321   \n",
       "min       1.000000     0.000000      0.000000      0.000000       12.000000   \n",
       "25%     252.500000   119.000000    103.000000    137.000000       25.000000   \n",
       "50%     504.000000   165.000000    142.000000    167.000000       50.000000   \n",
       "75%     755.500000   211.000000    179.000000    193.000000      100.000000   \n",
       "max    1008.000000   414.000000    505.000000    496.000000      400.000000   \n",
       "\n",
       "          distance       max_cp  attack_probability  base_capture_rate  \\\n",
       "count  1007.000000  1007.000000          904.000000              904.0   \n",
       "mean      5.058590  2309.782522            0.140951               -1.0   \n",
       "std       5.458459  1118.813651            0.090397                0.0   \n",
       "min       1.000000    16.000000            0.000000               -1.0   \n",
       "25%       3.000000  1306.000000            0.100000               -1.0   \n",
       "50%       3.000000  2304.000000            0.100000               -1.0   \n",
       "75%       5.000000  3138.000000            0.200000               -1.0   \n",
       "max      20.000000  9366.000000            0.700000               -1.0   \n",
       "\n",
       "       base_flee_rate  dodge_probability  max_pokemon_action_frequency  \\\n",
       "count           904.0         904.000000                    904.000000   \n",
       "mean             -1.0           0.159093                      1.600996   \n",
       "std               0.0           0.062609                      0.029934   \n",
       "min              -1.0           0.000000                      1.600000   \n",
       "25%              -1.0           0.150000                      1.600000   \n",
       "50%              -1.0           0.150000                      1.600000   \n",
       "75%              -1.0           0.150000                      1.600000   \n",
       "max              -1.0           1.000000                      2.500000   \n",
       "\n",
       "       min_pokemon_action_frequency  \n",
       "count                    904.000000  \n",
       "mean                       0.204701  \n",
       "std                        0.058141  \n",
       "min                        0.200000  \n",
       "25%                        0.200000  \n",
       "50%                        0.200000  \n",
       "75%                        0.200000  \n",
       "max                        1.100000  "
      ]
     },
     "execution_count": 5,
     "metadata": {},
     "output_type": "execute_result"
    }
   ],
   "source": [
    "ds.describe()"
   ]
  },
  {
   "cell_type": "code",
   "execution_count": 8,
   "metadata": {},
   "outputs": [
    {
     "data": {
      "text/plain": [
       "array(['Standard', 'Legendary', 'Mythic', 'Ultra beast'], dtype=object)"
      ]
     },
     "execution_count": 8,
     "metadata": {},
     "output_type": "execute_result"
    }
   ],
   "source": [
    "ds['rarity'].unique()"
   ]
  },
  {
   "cell_type": "code",
   "execution_count": 9,
   "metadata": {},
   "outputs": [
    {
     "data": {
      "text/plain": [
       "rarity\n",
       "Standard       910\n",
       "Legendary       64\n",
       "Mythic          22\n",
       "Ultra beast     11\n",
       "Name: count, dtype: int64"
      ]
     },
     "execution_count": 9,
     "metadata": {},
     "output_type": "execute_result"
    }
   ],
   "source": [
    "ds['rarity'].value_counts()"
   ]
  },
  {
   "cell_type": "code",
   "execution_count": 10,
   "metadata": {},
   "outputs": [
    {
     "data": {
      "image/png": "[encoded data removed]",
      "text/plain": [
       "<Figure size 640x480 with 1 Axes>"
      ]
     },
     "metadata": {},
     "output_type": "display_data"
    },
    {
     "ename": "TypeError",
     "evalue": "Neither the `x` nor `y` variable appears to be numeric.",
     "output_type": "error",
     "traceback": [
      "\u001b[0;31m---------------------------------------------------------------------------\u001b[0m",
      "\u001b[0;31mTypeError\u001b[0m                                 Traceback (most recent call last)",
      "Cell \u001b[0;32mIn[10], line 2\u001b[0m\n\u001b[1;32m      1\u001b[0m \u001b[38;5;28;01mfor\u001b[39;00m f \u001b[38;5;129;01min\u001b[39;00m ds\u001b[38;5;241m.\u001b[39mdrop(columns\u001b[38;5;241m=\u001b[39m[\u001b[38;5;124m'\u001b[39m\u001b[38;5;124mrarity\u001b[39m\u001b[38;5;124m'\u001b[39m])\u001b[38;5;241m.\u001b[39mcolumns:\n\u001b[0;32m----> 2\u001b[0m     sns\u001b[38;5;241m.\u001b[39mviolinplot(y\u001b[38;5;241m=\u001b[39m\u001b[38;5;124m'\u001b[39m\u001b[38;5;124mrarity\u001b[39m\u001b[38;5;124m'\u001b[39m, x\u001b[38;5;241m=\u001b[39mf, data\u001b[38;5;241m=\u001b[39mds, inner\u001b[38;5;241m=\u001b[39m\u001b[38;5;124m'\u001b[39m\u001b[38;5;124mquartile\u001b[39m\u001b[38;5;124m'\u001b[39m)\n\u001b[1;32m      3\u001b[0m     plt\u001b[38;5;241m.\u001b[39mshow()\n",
      "File \u001b[0;32m~/anaconda3/lib/python3.11/site-packages/seaborn/categorical.py:2305\u001b[0m, in \u001b[0;36mviolinplot\u001b[0;34m(data, x, y, hue, order, hue_order, bw, cut, scale, scale_hue, gridsize, width, inner, split, dodge, orient, linewidth, color, palette, saturation, ax, **kwargs)\u001b[0m\n\u001b[1;32m   2297\u001b[0m \u001b[38;5;28;01mdef\u001b[39;00m \u001b[38;5;21mviolinplot\u001b[39m(\n\u001b[1;32m   2298\u001b[0m     data\u001b[38;5;241m=\u001b[39m\u001b[38;5;28;01mNone\u001b[39;00m, \u001b[38;5;241m*\u001b[39m, x\u001b[38;5;241m=\u001b[39m\u001b[38;5;28;01mNone\u001b[39;00m, y\u001b[38;5;241m=\u001b[39m\u001b[38;5;28;01mNone\u001b[39;00m, hue\u001b[38;5;241m=\u001b[39m\u001b[38;5;28;01mNone\u001b[39;00m, order\u001b[38;5;241m=\u001b[39m\u001b[38;5;28;01mNone\u001b[39;00m, hue_order\u001b[38;5;241m=\u001b[39m\u001b[38;5;28;01mNone\u001b[39;00m,\n\u001b[1;32m   2299\u001b[0m     bw\u001b[38;5;241m=\u001b[39m\u001b[38;5;124m\"\u001b[39m\u001b[38;5;124mscott\u001b[39m\u001b[38;5;124m\"\u001b[39m, cut\u001b[38;5;241m=\u001b[39m\u001b[38;5;241m2\u001b[39m, scale\u001b[38;5;241m=\u001b[39m\u001b[38;5;124m\"\u001b[39m\u001b[38;5;124marea\u001b[39m\u001b[38;5;124m\"\u001b[39m, scale_hue\u001b[38;5;241m=\u001b[39m\u001b[38;5;28;01mTrue\u001b[39;00m, gridsize\u001b[38;5;241m=\u001b[39m\u001b[38;5;241m100\u001b[39m,\n\u001b[0;32m   (...)\u001b[0m\n\u001b[1;32m   2302\u001b[0m     ax\u001b[38;5;241m=\u001b[39m\u001b[38;5;28;01mNone\u001b[39;00m, \u001b[38;5;241m*\u001b[39m\u001b[38;5;241m*\u001b[39mkwargs,\n\u001b[1;32m   2303\u001b[0m ):\n\u001b[0;32m-> 2305\u001b[0m     plotter \u001b[38;5;241m=\u001b[39m _ViolinPlotter(x, y, hue, data, order, hue_order,\n\u001b[1;32m   2306\u001b[0m                              bw, cut, scale, scale_hue, gridsize,\n\u001b[1;32m   2307\u001b[0m                              width, inner, split, dodge, orient, linewidth,\n\u001b[1;32m   2308\u001b[0m                              color, palette, saturation)\n\u001b[1;32m   2310\u001b[0m     \u001b[38;5;28;01mif\u001b[39;00m ax \u001b[38;5;129;01mis\u001b[39;00m \u001b[38;5;28;01mNone\u001b[39;00m:\n\u001b[1;32m   2311\u001b[0m         ax \u001b[38;5;241m=\u001b[39m plt\u001b[38;5;241m.\u001b[39mgca()\n",
      "File \u001b[0;32m~/anaconda3/lib/python3.11/site-packages/seaborn/categorical.py:901\u001b[0m, in \u001b[0;36m_ViolinPlotter.__init__\u001b[0;34m(self, x, y, hue, data, order, hue_order, bw, cut, scale, scale_hue, gridsize, width, inner, split, dodge, orient, linewidth, color, palette, saturation)\u001b[0m\n\u001b[1;32m    896\u001b[0m \u001b[38;5;28;01mdef\u001b[39;00m \u001b[38;5;21m__init__\u001b[39m(\u001b[38;5;28mself\u001b[39m, x, y, hue, data, order, hue_order,\n\u001b[1;32m    897\u001b[0m              bw, cut, scale, scale_hue, gridsize,\n\u001b[1;32m    898\u001b[0m              width, inner, split, dodge, orient, linewidth,\n\u001b[1;32m    899\u001b[0m              color, palette, saturation):\n\u001b[0;32m--> 901\u001b[0m     \u001b[38;5;28mself\u001b[39m\u001b[38;5;241m.\u001b[39mestablish_variables(x, y, hue, data, orient, order, hue_order)\n\u001b[1;32m    902\u001b[0m     \u001b[38;5;28mself\u001b[39m\u001b[38;5;241m.\u001b[39mestablish_colors(color, palette, saturation)\n\u001b[1;32m    903\u001b[0m     \u001b[38;5;28mself\u001b[39m\u001b[38;5;241m.\u001b[39mestimate_densities(bw, cut, scale, scale_hue, gridsize)\n",
      "File \u001b[0;32m~/anaconda3/lib/python3.11/site-packages/seaborn/categorical.py:544\u001b[0m, in \u001b[0;36m_CategoricalPlotter.establish_variables\u001b[0;34m(self, x, y, hue, data, orient, order, hue_order, units)\u001b[0m\n\u001b[1;32m    541\u001b[0m         \u001b[38;5;28;01mraise\u001b[39;00m \u001b[38;5;167;01mValueError\u001b[39;00m(err)\n\u001b[1;32m    543\u001b[0m \u001b[38;5;66;03m# Figure out the plotting orientation\u001b[39;00m\n\u001b[0;32m--> 544\u001b[0m orient \u001b[38;5;241m=\u001b[39m infer_orient(\n\u001b[1;32m    545\u001b[0m     x, y, orient, require_numeric\u001b[38;5;241m=\u001b[39m\u001b[38;5;28mself\u001b[39m\u001b[38;5;241m.\u001b[39mrequire_numeric\n\u001b[1;32m    546\u001b[0m )\n\u001b[1;32m    548\u001b[0m \u001b[38;5;66;03m# Option 2a:\u001b[39;00m\n\u001b[1;32m    549\u001b[0m \u001b[38;5;66;03m# We are plotting a single set of data\u001b[39;00m\n\u001b[1;32m    550\u001b[0m \u001b[38;5;66;03m# ------------------------------------\u001b[39;00m\n\u001b[1;32m    551\u001b[0m \u001b[38;5;28;01mif\u001b[39;00m x \u001b[38;5;129;01mis\u001b[39;00m \u001b[38;5;28;01mNone\u001b[39;00m \u001b[38;5;129;01mor\u001b[39;00m y \u001b[38;5;129;01mis\u001b[39;00m \u001b[38;5;28;01mNone\u001b[39;00m:\n\u001b[1;32m    552\u001b[0m \n\u001b[1;32m    553\u001b[0m     \u001b[38;5;66;03m# Determine where the data are\u001b[39;00m\n",
      "File \u001b[0;32m~/anaconda3/lib/python3.11/site-packages/seaborn/_oldcore.py:1632\u001b[0m, in \u001b[0;36minfer_orient\u001b[0;34m(x, y, orient, require_numeric)\u001b[0m\n\u001b[1;32m   1630\u001b[0m \u001b[38;5;28;01melif\u001b[39;00m require_numeric \u001b[38;5;129;01mand\u001b[39;00m \u001b[38;5;124m\"\u001b[39m\u001b[38;5;124mnumeric\u001b[39m\u001b[38;5;124m\"\u001b[39m \u001b[38;5;129;01mnot\u001b[39;00m \u001b[38;5;129;01min\u001b[39;00m (x_type, y_type):\n\u001b[1;32m   1631\u001b[0m     err \u001b[38;5;241m=\u001b[39m \u001b[38;5;124m\"\u001b[39m\u001b[38;5;124mNeither the `x` nor `y` variable appears to be numeric.\u001b[39m\u001b[38;5;124m\"\u001b[39m\n\u001b[0;32m-> 1632\u001b[0m     \u001b[38;5;28;01mraise\u001b[39;00m \u001b[38;5;167;01mTypeError\u001b[39;00m(err)\n\u001b[1;32m   1634\u001b[0m \u001b[38;5;28;01melse\u001b[39;00m:\n\u001b[1;32m   1635\u001b[0m     \u001b[38;5;28;01mreturn\u001b[39;00m \u001b[38;5;124m\"\u001b[39m\u001b[38;5;124mv\u001b[39m\u001b[38;5;124m\"\u001b[39m\n",
      "\u001b[0;31mTypeError\u001b[0m: Neither the `x` nor `y` variable appears to be numeric."
     ]
    }
   ],
   "source": [
    "features = ds.drop(columns=['rarity', 'pokemon_id', 'pokemon_name'])\n",
    "\n",
    "for f in ds.drop(columns=['rarity']).columns:\n",
    "    sns.violinplot(y='rarity', x=f, data=ds, inner='quartile')\n",
    "    plt.show()"
   ]
  },
  {
   "cell_type": "code",
   "execution_count": null,
   "metadata": {},
   "outputs": [],
   "source": []
  }
 ],
 "metadata": {
  "kernelspec": {
   "display_name": "Python 3",
   "language": "python",
   "name": "python3"
  },
  "language_info": {
   "codemirror_mode": {
    "name": "ipython",
    "version": 3
   },
   "file_extension": ".py",
   "mimetype": "text/x-python",
   "name": "python",
   "nbconvert_exporter": "python",
   "pygments_lexer": "ipython3",
   "version": "3.11.5"
  }
 },
 "nbformat": 4,
 "nbformat_minor": 2
}
